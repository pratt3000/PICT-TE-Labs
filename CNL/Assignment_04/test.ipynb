{
 "metadata": {
  "language_info": {
   "codemirror_mode": {
    "name": "ipython",
    "version": 3
   },
   "file_extension": ".py",
   "mimetype": "text/x-python",
   "name": "python",
   "nbconvert_exporter": "python",
   "pygments_lexer": "ipython3",
   "version": "3.8.5-final"
  },
  "orig_nbformat": 2,
  "kernelspec": {
   "name": "Python 3.8.5 64-bit",
   "display_name": "Python 3.8.5 64-bit",
   "metadata": {
    "interpreter": {
     "hash": "916dbcbb3f70747c44a77c7bcd40155683ae19c65e1c03b4aa3499c5328201f1"
    }
   }
  }
 },
 "nbformat": 4,
 "nbformat_minor": 2,
 "cells": [
  {
   "cell_type": "code",
   "execution_count": 1,
   "metadata": {},
   "outputs": [],
   "source": [
    "import sys, os\n",
    "import socket\n",
    "import fcntl\n",
    "import struct\n",
    "#function to get ip addr of local machine\n"
   ]
  },
  {
   "cell_type": "code",
   "execution_count": 14,
   "metadata": {},
   "outputs": [
    {
     "output_type": "error",
     "ename": "OSError",
     "evalue": "[Errno 19] No such device",
     "traceback": [
      "\u001b[0;31m---------------------------------------------------------------------------\u001b[0m",
      "\u001b[0;31mOSError\u001b[0m                                   Traceback (most recent call last)",
      "\u001b[0;32m<ipython-input-14-60f070c036c4>\u001b[0m in \u001b[0;36m<module>\u001b[0;34m\u001b[0m\n\u001b[1;32m      8\u001b[0m \u001b[0;34m\u001b[0m\u001b[0m\n\u001b[1;32m      9\u001b[0m \u001b[0;34m\u001b[0m\u001b[0m\n\u001b[0;32m---> 10\u001b[0;31m \u001b[0mMyIP\u001b[0m \u001b[0;34m=\u001b[0m \u001b[0mget_ip_address\u001b[0m\u001b[0;34m(\u001b[0m\u001b[0;34m'eth0'\u001b[0m\u001b[0;34m)\u001b[0m\u001b[0;34m\u001b[0m\u001b[0;34m\u001b[0m\u001b[0m\n\u001b[0m\u001b[1;32m     11\u001b[0m \u001b[0msubnet\u001b[0m \u001b[0;34m=\u001b[0m \u001b[0mint\u001b[0m\u001b[0;34m(\u001b[0m\u001b[0mMyIP\u001b[0m\u001b[0;34m[\u001b[0m\u001b[0;36m8\u001b[0m\u001b[0;34m:\u001b[0m\u001b[0;36m9\u001b[0m\u001b[0;34m]\u001b[0m\u001b[0;34m)\u001b[0m\u001b[0;34m\u001b[0m\u001b[0;34m\u001b[0m\u001b[0m\n\u001b[1;32m     12\u001b[0m \u001b[0;34m\u001b[0m\u001b[0m\n",
      "\u001b[0;32m<ipython-input-14-60f070c036c4>\u001b[0m in \u001b[0;36mget_ip_address\u001b[0;34m(ifname)\u001b[0m\n\u001b[1;32m      1\u001b[0m \u001b[0;32mdef\u001b[0m \u001b[0mget_ip_address\u001b[0m\u001b[0;34m(\u001b[0m\u001b[0mifname\u001b[0m\u001b[0;34m)\u001b[0m\u001b[0;34m:\u001b[0m\u001b[0;34m\u001b[0m\u001b[0;34m\u001b[0m\u001b[0m\n\u001b[1;32m      2\u001b[0m     \u001b[0ms\u001b[0m \u001b[0;34m=\u001b[0m \u001b[0msocket\u001b[0m\u001b[0;34m.\u001b[0m\u001b[0msocket\u001b[0m\u001b[0;34m(\u001b[0m\u001b[0msocket\u001b[0m\u001b[0;34m.\u001b[0m\u001b[0mAF_INET\u001b[0m\u001b[0;34m,\u001b[0m \u001b[0msocket\u001b[0m\u001b[0;34m.\u001b[0m\u001b[0mSOCK_DGRAM\u001b[0m\u001b[0;34m)\u001b[0m\u001b[0;34m\u001b[0m\u001b[0;34m\u001b[0m\u001b[0m\n\u001b[0;32m----> 3\u001b[0;31m     return socket.inet_ntoa(fcntl.ioctl(\n\u001b[0m\u001b[1;32m      4\u001b[0m         \u001b[0ms\u001b[0m\u001b[0;34m.\u001b[0m\u001b[0mfileno\u001b[0m\u001b[0;34m(\u001b[0m\u001b[0;34m)\u001b[0m\u001b[0;34m,\u001b[0m\u001b[0;34m\u001b[0m\u001b[0;34m\u001b[0m\u001b[0m\n\u001b[1;32m      5\u001b[0m         \u001b[0;36m0x8915\u001b[0m\u001b[0;34m,\u001b[0m \u001b[0;31m# SIOCGIFADDR\u001b[0m\u001b[0;34m\u001b[0m\u001b[0;34m\u001b[0m\u001b[0m\n",
      "\u001b[0;31mOSError\u001b[0m: [Errno 19] No such device"
     ]
    }
   ],
   "source": [
    "import sys, os\n",
    "import socket\n",
    "import fcntl\n",
    "import struct\n",
    "\n",
    "# MyIP = get_ip_address('eth0')\n",
    "hostname = socket.gethostname()    \n",
    "MyIP = socket.gethostbyname(hostname) \n",
    "print(hostname, \" : \",MyIP)\n",
    "subnet = int(MyIP[8:9])\n",
    "\n",
    "#print subnet\n",
    "if subnet==6:\n",
    "    print (\"Subnet A.\\nIP address: \", MyIP)\n",
    "elif subnet==4:\n",
    "    print (\"Subnet B.\\nIP address: \", MyIP)\n",
    "elif subnet==3:\n",
    "    print (\"Subnet C.\\nIP address: \", MyIP)\n",
    "elif subnet==2:\n",
    "    print (\"Subnet D.\\nIP address: \", MyIP)\n",
    "\n",
    "option=32 # random number. Doesn't have any logic\n",
    "\n",
    "while option!=0:\n",
    "    option = int(input(\"\\n1. Intra subnet\\n2. Intersubnet\\n0. EXIT\\n\\n\"))\n",
    "    if option==1:\n",
    "        PING=MyIP[:10]\n",
    "        PCNo=input(\"Enter PC no.: \")\n",
    "        PING=PING+PCNo\n",
    "        os.system(\"ping -c 2 \"+PING)\n",
    "    elif option==2:\n",
    "        name=input(\"Enter subnet name : \")\n",
    "        PCNo=input(\"Enter PC no.: \")\n",
    "        PING=MyIP[:8]\n",
    "        if name==\"A\":\n",
    "            PING=PING+\"6.\"\n",
    "        elif name==\"B\":\n",
    "            PING=PING+\"4.\"\n",
    "        elif name==\"C\":\n",
    "            PING=PING+\"3.\"\n",
    "        elif name==\"D\":\n",
    "            PING=PING+\"2.\"\n",
    "        PING=PING+PCNo\n",
    "        os.system(\"ping -c 2 \"+PING)\n",
    "    elif option!=1 or option!=2:\n",
    "        break"
   ]
  },
  {
   "cell_type": "code",
   "execution_count": 3,
   "metadata": {},
   "outputs": [
    {
     "output_type": "error",
     "ename": "NameError",
     "evalue": "name 'subnet' is not defined",
     "traceback": [
      "\u001b[0;31m---------------------------------------------------------------------------\u001b[0m",
      "\u001b[0;31mNameError\u001b[0m                                 Traceback (most recent call last)",
      "\u001b[0;32m<ipython-input-3-212df3f79cc3>\u001b[0m in \u001b[0;36m<module>\u001b[0;34m\u001b[0m\n\u001b[0;32m----> 1\u001b[0;31m \u001b[0;32mif\u001b[0m \u001b[0msubnet\u001b[0m\u001b[0;34m==\u001b[0m\u001b[0;36m6\u001b[0m\u001b[0;34m:\u001b[0m\u001b[0;34m\u001b[0m\u001b[0;34m\u001b[0m\u001b[0m\n\u001b[0m\u001b[1;32m      2\u001b[0m     \u001b[0mprint\u001b[0m \u001b[0;34m(\u001b[0m\u001b[0;34m\"Subnet A.\\nIP address: \"\u001b[0m\u001b[0;34m,\u001b[0m \u001b[0mMyIP\u001b[0m\u001b[0;34m)\u001b[0m\u001b[0;34m\u001b[0m\u001b[0;34m\u001b[0m\u001b[0m\n\u001b[1;32m      3\u001b[0m \u001b[0;32melif\u001b[0m \u001b[0msubnet\u001b[0m\u001b[0;34m==\u001b[0m\u001b[0;36m4\u001b[0m\u001b[0;34m:\u001b[0m\u001b[0;34m\u001b[0m\u001b[0;34m\u001b[0m\u001b[0m\n\u001b[1;32m      4\u001b[0m     \u001b[0mprint\u001b[0m \u001b[0;34m(\u001b[0m\u001b[0;34m\"Subnet B.\\nIP address: \"\u001b[0m\u001b[0;34m,\u001b[0m \u001b[0mMyIP\u001b[0m\u001b[0;34m)\u001b[0m\u001b[0;34m\u001b[0m\u001b[0;34m\u001b[0m\u001b[0m\n\u001b[1;32m      5\u001b[0m \u001b[0;32melif\u001b[0m \u001b[0msubnet\u001b[0m\u001b[0;34m==\u001b[0m\u001b[0;36m3\u001b[0m\u001b[0;34m:\u001b[0m\u001b[0;34m\u001b[0m\u001b[0;34m\u001b[0m\u001b[0m\n",
      "\u001b[0;31mNameError\u001b[0m: name 'subnet' is not defined"
     ]
    }
   ],
   "source": [
    "if subnet==6:\n",
    "    print (\"Subnet A.\\nIP address: \", MyIP)\n",
    "elif subnet==4:\n",
    "    print (\"Subnet B.\\nIP address: \", MyIP)\n",
    "elif subnet==3:\n",
    "    print (\"Subnet C.\\nIP address: \", MyIP)\n",
    "elif subnet==2:\n",
    "    print (\"Subnet D.\\nIP address: \", MyIP)\n",
    "\n",
    "option=32 # random number. Doesn't have any logic\n",
    "\n",
    "while option!=0:\n",
    "    option = int(input(\"\\n1. Intra subnet\\n2. Intersubnet\\n0. EXIT\\n\\n\"))\n",
    "    if option==1:\n",
    "        PING=MyIP[:10]\n",
    "        PCNo=input(\"Enter PC no.: \")\n",
    "        PING=PING+PCNo\n",
    "        os.system(\"ping -c 2 \"+PING)\n",
    "    elif option==2:\n",
    "        name=input(\"Enter subnet name : \")\n",
    "        PCNo=input(\"Enter PC no.: \")\n",
    "        PING=MyIP[:8]\n",
    "        if name==\"A\":\n",
    "            PING=PING+\"6.\"\n",
    "        elif name==\"B\":\n",
    "            PING=PING+\"4.\"\n",
    "        elif name==\"C\":\n",
    "            PING=PING+\"3.\"\n",
    "        elif name==\"D\":\n",
    "            PING=PING+\"2.\"\n",
    "        PING=PING+PCNo\n",
    "        os.system(\"ping -c 2 \"+PING)\n",
    "    elif option!=1 or option!=2:\n",
    "        break"
   ]
  },
  {
   "cell_type": "code",
   "execution_count": null,
   "metadata": {},
   "outputs": [],
   "source": []
  }
 ]
}